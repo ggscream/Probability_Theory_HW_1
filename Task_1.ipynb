{
 "cells": [
  {
   "cell_type": "code",
   "execution_count": 1,
   "metadata": {},
   "outputs": [],
   "source": [
    "# 1. Из колоды в 52 карты извлекаются случайным образом 4 карты.\n",
    "# a) Найти вероятность того, что все карты – крести.\n",
    "# б) Найти вероятность, что среди 4-х карт окажется хотя бы один туз.\n",
    "\n",
    "from math import factorial as fac"
   ]
  },
  {
   "cell_type": "code",
   "execution_count": 2,
   "metadata": {},
   "outputs": [],
   "source": [
    "def combination(k, n):\n",
    "    return fac(n) / (fac(k) * fac(n - k))"
   ]
  },
  {
   "cell_type": "code",
   "execution_count": 6,
   "metadata": {},
   "outputs": [
    {
     "name": "stdout",
     "output_type": "stream",
     "text": [
      "0.0026\n"
     ]
    }
   ],
   "source": [
    "# решение подзадачи а\n",
    "\n",
    "total = combination(4, 52) # всего вариантов вытащить карты\n",
    "kresti = combination(4, 13) # вариантов вытащить 4 крести\n",
    "p = kresti / total\n",
    "print(round(p, 4))"
   ]
  },
  {
   "cell_type": "code",
   "execution_count": 8,
   "metadata": {},
   "outputs": [
    {
     "name": "stdout",
     "output_type": "stream",
     "text": [
      "0.2813\n"
     ]
    }
   ],
   "source": [
    "# решение подзадачи б\n",
    "\n",
    "notuz = combination(4, 48) # всего вариантов вытащить карты без множества тузов\n",
    "p = 1 - (notuz / total) # от полной вероятности отнимаем вероятность вытащить карты без тузов вообще\n",
    "\n",
    "print(round(p, 4))"
   ]
  }
 ],
 "metadata": {
  "kernelspec": {
   "display_name": "Python 3",
   "language": "python",
   "name": "python3"
  },
  "language_info": {
   "codemirror_mode": {
    "name": "ipython",
    "version": 3
   },
   "file_extension": ".py",
   "mimetype": "text/x-python",
   "name": "python",
   "nbconvert_exporter": "python",
   "pygments_lexer": "ipython3",
   "version": "3.11.1"
  },
  "orig_nbformat": 4,
  "vscode": {
   "interpreter": {
    "hash": "aee8b7b246df8f9039afb4144a1f6fd8d2ca17a180786b69acc140d282b71a49"
   }
  }
 },
 "nbformat": 4,
 "nbformat_minor": 2
}
